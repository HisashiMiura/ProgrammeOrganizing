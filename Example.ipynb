{
 "cells": [
  {
   "cell_type": "markdown",
   "metadata": {},
   "source": [
    "物性値を返すクラスの例です。大分迷いましたが、クラス概念を使う方が、呼び出し元のプログラムが非常に簡潔にかけるため、がんばって勉強してください。"
   ]
  },
  {
   "cell_type": "markdown",
   "metadata": {},
   "source": [
    "例として、合板(plywood)とグラスウール(glasswool)とします。"
   ]
  },
  {
   "cell_type": "markdown",
   "metadata": {},
   "source": [
    "各物性は、伝導率と容積比熱を返す関数を持つとします。"
   ]
  },
  {
   "cell_type": "markdown",
   "metadata": {},
   "source": [
    "伝導率と容積比熱は、温度と水分を表すパラメータの2つを引数とするとします。水分を表すパラメータの採用候補としては、相対湿度=RHと含水率=psiとします。"
   ]
  },
  {
   "cell_type": "markdown",
   "metadata": {},
   "source": [
    "伝導率を取得する関数はCond、容積比熱を取得する関数はCRowとします。"
   ]
  },
  {
   "cell_type": "markdown",
   "metadata": {},
   "source": [
    "たまたま、合板はRH基準で、グラスウールは含水率基準で表したとします。"
   ]
  },
  {
   "cell_type": "markdown",
   "metadata": {},
   "source": [
    "## 各モジュールに書くこと"
   ]
  },
  {
   "cell_type": "markdown",
   "metadata": {},
   "source": [
    "### Plywoodモジュール"
   ]
  },
  {
   "cell_type": "code",
   "execution_count": 1,
   "metadata": {
    "collapsed": true
   },
   "outputs": [],
   "source": [
    "class Plywood():\n",
    "    \n",
    "    def __init__( self ):\n",
    "        self.moistureIndex = 'RH' # 水分を表す指標としてRHを採用する場合は、'RH'を返すこととします。\n",
    "        \n",
    "    def Cond( self, temp, rh ):\n",
    "        return 1.2   # 返り値はダミー。本来であれば、tempとRHの関数。\n",
    "    \n",
    "    def CRow( self, temp, rh ):\n",
    "        return 500.0   # 返り値はダミー。本来であれば、tempとRHの関数。"
   ]
  },
  {
   "cell_type": "markdown",
   "metadata": {},
   "source": [
    "#### 使い方"
   ]
  },
  {
   "cell_type": "code",
   "execution_count": 2,
   "metadata": {
    "collapsed": true
   },
   "outputs": [],
   "source": [
    "p = Plywood()"
   ]
  },
  {
   "cell_type": "code",
   "execution_count": 3,
   "metadata": {
    "collapsed": false
   },
   "outputs": [
    {
     "data": {
      "text/plain": [
       "1.2"
      ]
     },
     "execution_count": 3,
     "metadata": {},
     "output_type": "execute_result"
    }
   ],
   "source": [
    "p.Cond( temp = 12.0, rh = 0.6 )"
   ]
  },
  {
   "cell_type": "code",
   "execution_count": 4,
   "metadata": {
    "collapsed": false
   },
   "outputs": [
    {
     "data": {
      "text/plain": [
       "500.0"
      ]
     },
     "execution_count": 4,
     "metadata": {},
     "output_type": "execute_result"
    }
   ],
   "source": [
    "p.CRow( temp = 12.0, rh = 0.6 )"
   ]
  },
  {
   "cell_type": "markdown",
   "metadata": {},
   "source": [
    "### グラスウールモジュール"
   ]
  },
  {
   "cell_type": "code",
   "execution_count": 5,
   "metadata": {
    "collapsed": true
   },
   "outputs": [],
   "source": [
    "class GlassWool():\n",
    "    \n",
    "    def __init__( self ):\n",
    "        self.moistureIndex = 'psi' # 水分を表す指標としてpsiを採用する場合は、'psiを返すこととします。\n",
    "    \n",
    "    def Cond( self, temp, psi ):\n",
    "        return 1.8   # 返り値はダミー。本来であれば、tempとpsiの関数。\n",
    "    \n",
    "    def CRow( self, temp, psi ):\n",
    "        return 700.0   # 返り値はダミー。本来であれば、tempとpsiの関数。"
   ]
  },
  {
   "cell_type": "markdown",
   "metadata": {},
   "source": [
    "#### 使い方"
   ]
  },
  {
   "cell_type": "code",
   "execution_count": 6,
   "metadata": {
    "collapsed": true
   },
   "outputs": [],
   "source": [
    "gw = GlassWool()"
   ]
  },
  {
   "cell_type": "code",
   "execution_count": 7,
   "metadata": {
    "collapsed": false
   },
   "outputs": [
    {
     "data": {
      "text/plain": [
       "1.8"
      ]
     },
     "execution_count": 7,
     "metadata": {},
     "output_type": "execute_result"
    }
   ],
   "source": [
    "gw.Cond( temp = 15.0, psi = 100.0 )"
   ]
  },
  {
   "cell_type": "code",
   "execution_count": 8,
   "metadata": {
    "collapsed": false
   },
   "outputs": [
    {
     "data": {
      "text/plain": [
       "700.0"
      ]
     },
     "execution_count": 8,
     "metadata": {},
     "output_type": "execute_result"
    }
   ],
   "source": [
    "gw.CRow( temp = 15.0, psi = 100.0 )"
   ]
  },
  {
   "cell_type": "markdown",
   "metadata": {},
   "source": [
    "ここまで、実際にはクラス１つについて１つのモジュールとして記述します。"
   ]
  },
  {
   "cell_type": "markdown",
   "metadata": {},
   "source": [
    "## 各モジュールを統括するモジュール"
   ]
  },
  {
   "cell_type": "markdown",
   "metadata": {},
   "source": [
    "物性値を管理するプログラムの例です。"
   ]
  },
  {
   "cell_type": "markdown",
   "metadata": {},
   "source": [
    "このモジュールは一度書いてしまえば、getMaterial関数に新たに物性値を追加するとき以外は、変更しません。"
   ]
  },
  {
   "cell_type": "markdown",
   "metadata": {},
   "source": [
    "RHからpsiに変換する関数が下記のようにあったとします。"
   ]
  },
  {
   "cell_type": "code",
   "execution_count": 9,
   "metadata": {
    "collapsed": true
   },
   "outputs": [],
   "source": [
    "def RH_to_Psi( rh ):\n",
    "    psi = rh # ダミー。本来であれば、何らかの関数により換算される。\n",
    "    return psi"
   ]
  },
  {
   "cell_type": "markdown",
   "metadata": {},
   "source": [
    "psiからRHに変換する関数が下記のようにあったとします。"
   ]
  },
  {
   "cell_type": "code",
   "execution_count": 10,
   "metadata": {
    "collapsed": true
   },
   "outputs": [],
   "source": [
    "def Psi_to_RH( psi ):\n",
    "    rh = psi # ダミー。本来であれば、何らかの関数により換算される。\n",
    "    return rh"
   ]
  },
  {
   "cell_type": "markdown",
   "metadata": {},
   "source": [
    "水分を表すパラメータとしてrhかpsiかを判別するための関数です。material.moistureIndex を見に行ってそれが、'RH'なのか'psi'なのかで換算をかけるかかけないかを判断しています。"
   ]
  },
  {
   "cell_type": "code",
   "execution_count": 11,
   "metadata": {
    "collapsed": true
   },
   "outputs": [],
   "source": [
    "def RH_to_MoistureValue( material, rh ):\n",
    "    if material.moistureIndex == 'RH':\n",
    "        return rh\n",
    "    elif material.moistureIndex == 'psi':\n",
    "        return RH_to_Psi(rh)\n",
    "    else:\n",
    "        raise ValueError('各物性クラスのmoistureIndexには、「RH」か「psi」を指定しください。')"
   ]
  },
  {
   "cell_type": "code",
   "execution_count": 12,
   "metadata": {
    "collapsed": false
   },
   "outputs": [],
   "source": [
    "def Psi_to_MoistureValue( material, psi ):\n",
    "    if material.moistureIndex == 'RH':\n",
    "        return Psi_to_RH(psi)\n",
    "    elif material.moistureIndex == 'psi':\n",
    "        return psi\n",
    "    else:\n",
    "        raise ValueError('各物性クラスのmoistureIndexには、「RH」か「psi」を指定しください。')"
   ]
  },
  {
   "cell_type": "markdown",
   "metadata": {},
   "source": [
    "tempとRHからCondを計算する関数。"
   ]
  },
  {
   "cell_type": "code",
   "execution_count": 13,
   "metadata": {
    "collapsed": true
   },
   "outputs": [],
   "source": [
    "def CondAsRH( material, temp, rh ):\n",
    "    return material.Cond( temp, RH_to_MoistureValue( material, rh ) )"
   ]
  },
  {
   "cell_type": "markdown",
   "metadata": {},
   "source": [
    "tempとpsiからCondを計算する関数"
   ]
  },
  {
   "cell_type": "code",
   "execution_count": 14,
   "metadata": {
    "collapsed": true
   },
   "outputs": [],
   "source": [
    "def CondAsPsi( material, temp, psi ):\n",
    "    return material.Cond( temp, Psi_to_MoistureValue( material, psi ) )"
   ]
  },
  {
   "cell_type": "markdown",
   "metadata": {},
   "source": [
    "tempとRHからCROWを計算する関数"
   ]
  },
  {
   "cell_type": "code",
   "execution_count": 15,
   "metadata": {
    "collapsed": true
   },
   "outputs": [],
   "source": [
    "def CRowAsRH( material, temp, rh ):\n",
    "    return material.CRow( temp, RH_to_MoistureValue( material, rh ) )"
   ]
  },
  {
   "cell_type": "markdown",
   "metadata": {},
   "source": [
    "tempとpsiからCROWを計算する関数"
   ]
  },
  {
   "cell_type": "code",
   "execution_count": 16,
   "metadata": {
    "collapsed": true
   },
   "outputs": [],
   "source": [
    "def CRowAsPsi( material, temp, psi ):\n",
    "    return material.CRow( temp, Psi_to_MoistureValue( material, psi ) )"
   ]
  },
  {
   "cell_type": "markdown",
   "metadata": {},
   "source": [
    "引数'name'に基づいて、該当するクラスを返します。"
   ]
  },
  {
   "cell_type": "code",
   "execution_count": 17,
   "metadata": {
    "collapsed": false
   },
   "outputs": [],
   "source": [
    "def getMaterial( name ):\n",
    "    \n",
    "    # 新しく物性モジュールを作成した場合は、ここに追加してください。\n",
    "    mlist = {\n",
    "        '合板' : Plywood,\n",
    "        'グラスウール' : GlassWool\n",
    "    }\n",
    "    \n",
    "    M = mlist[name]\n",
    "    \n",
    "    # 上記で定義した関数を動的にクラス'M'に追加します。\n",
    "    M.CondAsRH  = CondAsRH\n",
    "    M.CondAsPsi = CondAsPsi\n",
    "    M.CRowAsRH  = CRowAsRH\n",
    "    M.CRowAsPsi = CRowAsPsi\n",
    "    \n",
    "    return M()"
   ]
  },
  {
   "cell_type": "markdown",
   "metadata": {},
   "source": [
    "使い方"
   ]
  },
  {
   "cell_type": "markdown",
   "metadata": {},
   "source": [
    "getMaterial関数の引数に取得したい物性値名称を指定して、物性値を取得します。"
   ]
  },
  {
   "cell_type": "code",
   "execution_count": 18,
   "metadata": {
    "collapsed": false
   },
   "outputs": [],
   "source": [
    "m1 = getMaterial('合板')"
   ]
  },
  {
   "cell_type": "markdown",
   "metadata": {},
   "source": [
    "例えば、Psi基準でCondを取得したかったら・・・"
   ]
  },
  {
   "cell_type": "code",
   "execution_count": 19,
   "metadata": {
    "collapsed": false
   },
   "outputs": [
    {
     "data": {
      "text/plain": [
       "1.2"
      ]
     },
     "execution_count": 19,
     "metadata": {},
     "output_type": "execute_result"
    }
   ],
   "source": [
    "m1.CondAsPsi( temp = 15.0, psi = 25.0 )"
   ]
  },
  {
   "cell_type": "markdown",
   "metadata": {},
   "source": [
    "RH基準でCondを取得したかったら・・・"
   ]
  },
  {
   "cell_type": "code",
   "execution_count": 20,
   "metadata": {
    "collapsed": false
   },
   "outputs": [
    {
     "data": {
      "text/plain": [
       "1.2"
      ]
     },
     "execution_count": 20,
     "metadata": {},
     "output_type": "execute_result"
    }
   ],
   "source": [
    "m1.CondAsRH( temp = 15.0, rh = 0.6 )"
   ]
  },
  {
   "cell_type": "markdown",
   "metadata": {},
   "source": [
    "CRowも同様に"
   ]
  },
  {
   "cell_type": "code",
   "execution_count": 21,
   "metadata": {
    "collapsed": false
   },
   "outputs": [
    {
     "data": {
      "text/plain": [
       "500.0"
      ]
     },
     "execution_count": 21,
     "metadata": {},
     "output_type": "execute_result"
    }
   ],
   "source": [
    "m1.CRowAsPsi( temp = 15.0, psi = 25.0 )"
   ]
  },
  {
   "cell_type": "code",
   "execution_count": 22,
   "metadata": {
    "collapsed": false
   },
   "outputs": [
    {
     "data": {
      "text/plain": [
       "500.0"
      ]
     },
     "execution_count": 22,
     "metadata": {},
     "output_type": "execute_result"
    }
   ],
   "source": [
    "m1.CRowAsRH( temp = 15.0, rh = 0.6 )"
   ]
  },
  {
   "cell_type": "markdown",
   "metadata": {},
   "source": [
    "グラスウールの場合も同様に"
   ]
  },
  {
   "cell_type": "code",
   "execution_count": 23,
   "metadata": {
    "collapsed": true
   },
   "outputs": [],
   "source": [
    "m2 = getMaterial('グラスウール')"
   ]
  },
  {
   "cell_type": "code",
   "execution_count": 24,
   "metadata": {
    "collapsed": false
   },
   "outputs": [
    {
     "data": {
      "text/plain": [
       "1.8"
      ]
     },
     "execution_count": 24,
     "metadata": {},
     "output_type": "execute_result"
    }
   ],
   "source": [
    "m2.CondAsPsi( temp = 15.0, psi = 25.0 )"
   ]
  },
  {
   "cell_type": "code",
   "execution_count": 25,
   "metadata": {
    "collapsed": false
   },
   "outputs": [
    {
     "data": {
      "text/plain": [
       "1.8"
      ]
     },
     "execution_count": 25,
     "metadata": {},
     "output_type": "execute_result"
    }
   ],
   "source": [
    "m2.CondAsRH( temp = 15.0, rh = 0.6 )"
   ]
  },
  {
   "cell_type": "code",
   "execution_count": 26,
   "metadata": {
    "collapsed": false
   },
   "outputs": [
    {
     "data": {
      "text/plain": [
       "700.0"
      ]
     },
     "execution_count": 26,
     "metadata": {},
     "output_type": "execute_result"
    }
   ],
   "source": [
    "m2.CRowAsPsi( temp = 15.0, psi = 25.0 )"
   ]
  },
  {
   "cell_type": "code",
   "execution_count": 27,
   "metadata": {
    "collapsed": false
   },
   "outputs": [
    {
     "data": {
      "text/plain": [
       "700.0"
      ]
     },
     "execution_count": 27,
     "metadata": {},
     "output_type": "execute_result"
    }
   ],
   "source": [
    "m2.CRowAsRH( temp = 15.0, rh = 0.6 )"
   ]
  },
  {
   "cell_type": "markdown",
   "metadata": {},
   "source": [
    "なお、クラスに関数をあとから追加するという概念がわかりにくければ、以下のように書いてしまってもかまいません。"
   ]
  },
  {
   "cell_type": "code",
   "execution_count": 28,
   "metadata": {
    "collapsed": true
   },
   "outputs": [],
   "source": [
    "m3 = getMaterial('合板')"
   ]
  },
  {
   "cell_type": "code",
   "execution_count": 29,
   "metadata": {
    "collapsed": false
   },
   "outputs": [
    {
     "data": {
      "text/plain": [
       "1.2"
      ]
     },
     "execution_count": 29,
     "metadata": {},
     "output_type": "execute_result"
    }
   ],
   "source": [
    "CondAsPsi( material = m3, temp = 15.0, psi = 25.0 )"
   ]
  },
  {
   "cell_type": "markdown",
   "metadata": {},
   "source": [
    "ただ、  \n",
    "CondAsPsi( m3, 15.0, 25.0 )  \n",
    "と書くのと  \n",
    "m3.CondAsPsi( 15.0, 25.0 )  \n",
    "と書くのでは、後者の方が、主語述語がはっきりしていて、慣れればすっきり見えるので、なるべく後者が望ましいです。"
   ]
  },
  {
   "cell_type": "markdown",
   "metadata": {},
   "source": [
    "参考までに・・・・  \n",
    "あとからクラスに関数を追加するという高度なことをやっていますが、通常のクラスの関数は以下のように書きます。"
   ]
  },
  {
   "cell_type": "code",
   "execution_count": 30,
   "metadata": {
    "collapsed": true
   },
   "outputs": [],
   "source": [
    "class Sample():\n",
    "    \n",
    "    def __init__( self, x ):\n",
    "        self.x = x\n",
    "    \n",
    "    def SampleMethod( self, y ):\n",
    "        return self.x + y"
   ]
  },
  {
   "cell_type": "code",
   "execution_count": 31,
   "metadata": {
    "collapsed": true
   },
   "outputs": [],
   "source": [
    "s = Sample( 3 )"
   ]
  },
  {
   "cell_type": "code",
   "execution_count": 32,
   "metadata": {
    "collapsed": false
   },
   "outputs": [
    {
     "data": {
      "text/plain": [
       "5"
      ]
     },
     "execution_count": 32,
     "metadata": {},
     "output_type": "execute_result"
    }
   ],
   "source": [
    "s.SampleMethod( 2 )"
   ]
  },
  {
   "cell_type": "markdown",
   "metadata": {},
   "source": [
    "クラスの中の関数の第1引数は自分自身ですので、  \n",
    "s.SampleMethod( 2 )  と  SampleMethod( s, 2 )  は、実はまったく同じ意味を持ちます。"
   ]
  },
  {
   "cell_type": "code",
   "execution_count": null,
   "metadata": {
    "collapsed": true
   },
   "outputs": [],
   "source": []
  }
 ],
 "metadata": {
  "kernelspec": {
   "display_name": "Python 3",
   "language": "python",
   "name": "python3"
  },
  "language_info": {
   "codemirror_mode": {
    "name": "ipython",
    "version": 3
   },
   "file_extension": ".py",
   "mimetype": "text/x-python",
   "name": "python",
   "nbconvert_exporter": "python",
   "pygments_lexer": "ipython3",
   "version": "3.6.2"
  }
 },
 "nbformat": 4,
 "nbformat_minor": 2
}
