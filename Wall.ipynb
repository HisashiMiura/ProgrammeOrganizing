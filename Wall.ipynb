{
 "cells": [
  {
   "cell_type": "code",
   "execution_count": 1,
   "metadata": {
    "collapsed": true
   },
   "outputs": [],
   "source": [
    "import matplotlib.pyplot as plt"
   ]
  },
  {
   "cell_type": "markdown",
   "metadata": {},
   "source": [
    "# 予め資産として開発しておくモジュールorクラス"
   ]
  },
  {
   "cell_type": "markdown",
   "metadata": {},
   "source": [
    "## 一般的な関数"
   ]
  },
  {
   "cell_type": "markdown",
   "metadata": {},
   "source": [
    "マイナス側値とプラス側値をもつだけの構造体"
   ]
  },
  {
   "cell_type": "code",
   "execution_count": 2,
   "metadata": {
    "collapsed": true
   },
   "outputs": [],
   "source": [
    "class Side(): # マイナス側値とプラス側値をもつだけの構造体\n",
    "    def __init__( self, mns, pls ):\n",
    "        self.mns = mns\n",
    "        self.pls = pls"
   ]
  },
  {
   "cell_type": "markdown",
   "metadata": {},
   "source": [
    "#### 使用例"
   ]
  },
  {
   "cell_type": "code",
   "execution_count": 3,
   "metadata": {
    "collapsed": true
   },
   "outputs": [],
   "source": [
    "s = Side( mns = 10, pls = 20 )"
   ]
  },
  {
   "cell_type": "code",
   "execution_count": 4,
   "metadata": {
    "collapsed": false
   },
   "outputs": [
    {
     "data": {
      "text/plain": [
       "10"
      ]
     },
     "execution_count": 4,
     "metadata": {},
     "output_type": "execute_result"
    }
   ],
   "source": [
    "s.mns"
   ]
  },
  {
   "cell_type": "code",
   "execution_count": 5,
   "metadata": {
    "collapsed": false
   },
   "outputs": [
    {
     "data": {
      "text/plain": [
       "20"
      ]
     },
     "execution_count": 5,
     "metadata": {},
     "output_type": "execute_result"
    }
   ],
   "source": [
    "s.pls"
   ]
  },
  {
   "cell_type": "markdown",
   "metadata": {},
   "source": [
    "## 物性値をリスト化して取得するクラス"
   ]
  },
  {
   "cell_type": "code",
   "execution_count": 6,
   "metadata": {
    "collapsed": true
   },
   "outputs": [],
   "source": [
    "class Prop():\n",
    "    \n",
    "    def __init__( self ):\n",
    "        self.context = {\n",
    "            'm' : {\n",
    "                'cd'  : 1.0,\n",
    "                'cap' : 100.0\n",
    "            }\n",
    "        }\n",
    "    \n",
    "    def search( self, name ):\n",
    "        return self.context[name]\n"
   ]
  },
  {
   "cell_type": "markdown",
   "metadata": {},
   "source": [
    "#### 使用例"
   ]
  },
  {
   "cell_type": "code",
   "execution_count": 7,
   "metadata": {
    "collapsed": true
   },
   "outputs": [],
   "source": [
    "p = Prop()"
   ]
  },
  {
   "cell_type": "code",
   "execution_count": 8,
   "metadata": {
    "collapsed": false
   },
   "outputs": [
    {
     "data": {
      "text/plain": [
       "(1.0, 100.0)"
      ]
     },
     "execution_count": 8,
     "metadata": {},
     "output_type": "execute_result"
    }
   ],
   "source": [
    "m = p.search('m')\n",
    "m['cd'], m['cap']"
   ]
  },
  {
   "cell_type": "markdown",
   "metadata": {},
   "source": [
    "## 差分計算するクラス"
   ]
  },
  {
   "cell_type": "code",
   "execution_count": 9,
   "metadata": {
    "collapsed": true
   },
   "outputs": [],
   "source": [
    "class Cell():\n",
    "    \n",
    "    def __init__( self, cd, cap ):\n",
    "        self.cd   = cd\n",
    "        self.cap  = cap\n",
    "        self.temp = 0.0\n",
    "    \n",
    "    def setInitialTemp( self, initial = 0.0 ):\n",
    "        self.temp = initial\n",
    "    \n",
    "    def addAdjCell( self, adj ):\n",
    "        self.adj = adj\n",
    "        \n",
    "    def makeCombinedConductance( self, surfCond ):\n",
    "        cd_adj = Side( mns = surfCond.mns if self.adj.mns == 'AirMns' else self.adj.mns.cd.pls,\n",
    "                       pls = surfCond.pls if self.adj.pls == 'AirPls' else self.adj.pls.cd.mns )\n",
    "        R = Side( 1 / cd_adj.mns + 1 / self.cd.mns , 1 / cd_adj.pls + 1 / self.cd.pls )\n",
    "        self.cc = Side( 1 / R.mns, 1 / R.pls  )\n",
    "        \n",
    "    def newTempCalc( self, sideTemp, deltaT ):\n",
    "        temp_adj = Side( mns = sideTemp.mns if self.adj.mns == 'AirMns' else self.adj.mns.temp,\n",
    "                         pls = sideTemp.pls if self.adj.pls == 'AirPls' else self.adj.pls.temp )\n",
    "        heatflow = ( ( temp_adj.mns - self.temp ) * self.cc.mns + ( temp_adj.pls - self.temp ) * self.cc.pls ) * deltaT\n",
    "        self.newtemp = heatflow / self.cap + self.temp\n",
    "        \n",
    "    def updatetemp( self ):\n",
    "        self.temp = self.newtemp\n",
    "\n",
    "        \n",
    "class Wall():\n",
    "                \n",
    "    def __init__( self, initialtemp, surfCond, composition, material_prop, deltaT ):\n",
    "        \n",
    "        self.cells = [ Cell( cd = Side( mns = material_prop.search(c)['cd'], pls = material_prop.search(c)['cd'] ),\n",
    "                            cap = material_prop.search(c)['cap'] ) for c in composition ]\n",
    "        self.deltaT = deltaT\n",
    "        \n",
    "        # initialize temperature\n",
    "        [ c.setInitialTemp( initialtemp ) for c in self.cells ]\n",
    "    \n",
    "        # set adjacent cell\n",
    "        [ c.addAdjCell( Side(\n",
    "            mns = 'AirMns' if i == 0                   else self.cells[i-1],\n",
    "            pls = 'AirPls' if i == len(self.cells) - 1 else self.cells[i+1] ) ) for i, c in enumerate(self.cells) ]\n",
    "    \n",
    "        # make combined conductance\n",
    "        [ c.makeCombinedConductance( surfCond = surfCond ) for c in self.cells ]\n",
    "    \n",
    "    def Calc( self, sideTemp ):\n",
    "        [ c.newTempCalc( sideTemp = sideTemp, deltaT = self.deltaT ) for c in self.cells ]\n",
    "        [ c.updatetemp() for c in self.cells ]"
   ]
  },
  {
   "cell_type": "code",
   "execution_count": 10,
   "metadata": {
    "collapsed": true
   },
   "outputs": [],
   "source": [
    "class logger():\n",
    "    \n",
    "    def __init__( self, interval ):\n",
    "        self.interval = interval\n",
    "        self.times = []\n",
    "\n",
    "        self.datas = []\n",
    "        self.titles = []\n",
    "        self.objs = []\n",
    "        self.sensors = []\n",
    "        \n",
    "    def AddSensor( self, title, obj, sensor ):\n",
    "        self.datas.append( [] )\n",
    "        self.titles.append( title )\n",
    "        self.objs.append( obj )\n",
    "        self.sensors.append( sensor )\n",
    "        \n",
    "    def WriteData( self, t ):\n",
    "        if t % self.interval == 0:\n",
    "            self.times.append( t )\n",
    "            for ( d, o, s ) in zip( self.datas, self.objs, self.sensors ):\n",
    "                d.append( s( o ) )        "
   ]
  },
  {
   "cell_type": "markdown",
   "metadata": {},
   "source": [
    "ここより上半分は研究室の資産として持っておきます。  \n",
    "上記は非常に汎用性が高い書き方をすることにします。  \n",
    "下半分は、研究ごと、論文作成ごと、企業等からの依頼計算ごとに、その都度ごとに記述します。  \n",
    "都度記述するので、一見めんどうくさそうに思えますが、下記の例のように、きちんと設計さえしさえば、たかだか10行程度で、複雑な計算が可能です。  \n",
    "なんでもできるプログラムを作成するよりは、きちんと設計された再利用可能なモジュール郡を研究室で蓄積する方がコスパが高いと思います。"
   ]
  },
  {
   "cell_type": "code",
   "execution_count": 11,
   "metadata": {
    "collapsed": false,
    "scrolled": false
   },
   "outputs": [
    {
     "data": {
      "image/png": "[encoded data removed]",
      "text/plain": [
       "<matplotlib.figure.Figure at 0x213aa6b7400>"
      ]
     },
     "metadata": {},
     "output_type": "display_data"
    }
   ],
   "source": [
    "# make a wall\n",
    "w = Wall( initialtemp   = 0.0,\n",
    "          surfCond      = Side( mns = 1.0, pls = 1.0 ),\n",
    "          composition   = ['m','m','m','m','m','m','m','m','m','m'],\n",
    "          material_prop = Prop(),\n",
    "          deltaT = 1.0 )\n",
    "# initialtemp is the initial temperatures at the cells in the wall\n",
    "# surfCond is the surface conductance at the both side surface of the wall (W/m2K)\n",
    "# composition is the material of the cells in the wall\n",
    "# material_porp is the material property list written in the dictionary style\n",
    "# deltaT is the interval for calculation (s)\n",
    "\n",
    "# set the logger with the interval of 60 sec.\n",
    "l = logger( interval = 60 )\n",
    "# set the sensors and connet them to the logger\n",
    "l.AddSensor( title = 'temp_surfA',  obj = w, sensor = lambda w : w.cells[0].temp )\n",
    "l.AddSensor( title = 'temp_middle', obj = w, sensor = lambda w : w.cells[4].temp )\n",
    "l.AddSensor( title = 'temp_surfB',  obj = w, sensor = lambda w : w.cells[9].temp )\n",
    "\n",
    "# calculation span\n",
    "calcspan = 3600 * 2 + 1\n",
    "\n",
    "# air temperature at the both side surface (℃)\n",
    "# It is as constant value in this calculation, which is 5.0 degree C at the both side.\n",
    "sideTemp = Side( mns = 0.0, pls = 20.0 )\n",
    "\n",
    "# run calculation in 'calcspan' times\n",
    "for t in range( calcspan ):\n",
    "    w.Calc( sideTemp = sideTemp )\n",
    "    l.WriteData( t )\n",
    "\n",
    "# draw graph\n",
    "fig = plt.figure(figsize=(15,4))\n",
    "ax = fig.add_subplot(1,1,1)\n",
    "ax.plot( l.times, l.datas[0], label = l.titles[0] )\n",
    "ax.plot( l.times, l.datas[1], label = l.titles[1] )\n",
    "ax.plot( l.times, l.datas[2], label = l.titles[2] )\n",
    "ax.set_xticks( [ n * 900 for n in range(0, 9) ] )\n",
    "ax.set_xlabel( 'time(sec)', fontsize = 12 )\n",
    "ax.set_ylabel( 'temperature(degree C)', fontsize = 12 )\n",
    "plt.legend()\n",
    "plt.show()"
   ]
  },
  {
   "cell_type": "code",
   "execution_count": null,
   "metadata": {
    "collapsed": false
   },
   "outputs": [],
   "source": []
  },
  {
   "cell_type": "code",
   "execution_count": null,
   "metadata": {
    "collapsed": true
   },
   "outputs": [],
   "source": []
  }
 ],
 "metadata": {
  "kernelspec": {
   "display_name": "Python 3",
   "language": "python",
   "name": "python3"
  },
  "language_info": {
   "codemirror_mode": {
    "name": "ipython",
    "version": 3
   },
   "file_extension": ".py",
   "mimetype": "text/x-python",
   "name": "python",
   "nbconvert_exporter": "python",
   "pygments_lexer": "ipython3",
   "version": "3.6.2"
  }
 },
 "nbformat": 4,
 "nbformat_minor": 2
}
