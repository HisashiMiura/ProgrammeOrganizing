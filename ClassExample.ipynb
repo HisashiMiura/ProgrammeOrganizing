{
 "cells": [
  {
   "cell_type": "markdown",
   "metadata": {},
   "source": [
    "# クラスの構造体的な使い方"
   ]
  },
  {
   "cell_type": "markdown",
   "metadata": {},
   "source": [
    "よく、Fortran出身の人のプログラムでは以下のような記述が見られます。"
   ]
  },
  {
   "cell_type": "code",
   "execution_count": 1,
   "metadata": {
    "collapsed": true
   },
   "outputs": [],
   "source": [
    "n = 4\n",
    "x = [ 1, 2, 3, 4 ]\n",
    "y = [ 5, 6, 7, 8 ]"
   ]
  },
  {
   "cell_type": "code",
   "execution_count": 2,
   "metadata": {
    "collapsed": true
   },
   "outputs": [],
   "source": [
    "z = [ 0, 0, 0, 0 ]\n",
    "for i in range(n):\n",
    "    z[i] = x[i] + y[i]"
   ]
  },
  {
   "cell_type": "code",
   "execution_count": 3,
   "metadata": {
    "collapsed": false
   },
   "outputs": [
    {
     "name": "stdout",
     "output_type": "stream",
     "text": [
      "[6, 8, 10, 12]\n"
     ]
    }
   ],
   "source": [
    "print(z)"
   ]
  },
  {
   "cell_type": "markdown",
   "metadata": {},
   "source": [
    "特に前進差分などの計算では頻発します。例えば、  \n",
    "lambda[i]  \n",
    "crow[i]  ...etc...\n",
    "のように。これは、本当に見づらいです。また、indexのずれなど、予期せぬバグを書いてしまうことになります。  \n",
    "さらに、i = 0の場合は空気だよ・・・みたいな暗黙の決めごとが多発して、他人にとって非常に読みづらい、つまりプログラムの再利用性が著しく低下し、「結局は書いた人に聞かないと何をやっているかわからない。」というプログラムになってしまいます。\n",
    "良いプログラムは説明不要で、見ただけで、すっきりと流れるように頭の中に入ってくるプログラムです。\n",
    "次のように書くことで、非常にプログラムがすっきりします。"
   ]
  },
  {
   "cell_type": "code",
   "execution_count": 4,
   "metadata": {
    "collapsed": false
   },
   "outputs": [],
   "source": [
    "class Cell():\n",
    "    def __init__( self, x, y):\n",
    "        self.x = x\n",
    "        self.y = y"
   ]
  },
  {
   "cell_type": "markdown",
   "metadata": {},
   "source": [
    "構造体的な使い方で、例えば、以下のように使えます。"
   ]
  },
  {
   "cell_type": "code",
   "execution_count": 5,
   "metadata": {
    "collapsed": true
   },
   "outputs": [],
   "source": [
    "c1 = Cell( 2, 3 )"
   ]
  },
  {
   "cell_type": "code",
   "execution_count": 6,
   "metadata": {
    "collapsed": false
   },
   "outputs": [
    {
     "data": {
      "text/plain": [
       "2"
      ]
     },
     "execution_count": 6,
     "metadata": {},
     "output_type": "execute_result"
    }
   ],
   "source": [
    "c1.x"
   ]
  },
  {
   "cell_type": "code",
   "execution_count": 7,
   "metadata": {
    "collapsed": false
   },
   "outputs": [
    {
     "data": {
      "text/plain": [
       "3"
      ]
     },
     "execution_count": 7,
     "metadata": {},
     "output_type": "execute_result"
    }
   ],
   "source": [
    "c1.y"
   ]
  },
  {
   "cell_type": "markdown",
   "metadata": {},
   "source": [
    "書き換えも自由"
   ]
  },
  {
   "cell_type": "code",
   "execution_count": 8,
   "metadata": {
    "collapsed": true
   },
   "outputs": [],
   "source": [
    "c1.x = 5"
   ]
  },
  {
   "cell_type": "code",
   "execution_count": 9,
   "metadata": {
    "collapsed": false
   },
   "outputs": [
    {
     "data": {
      "text/plain": [
       "5"
      ]
     },
     "execution_count": 9,
     "metadata": {},
     "output_type": "execute_result"
    }
   ],
   "source": [
    "c1.x"
   ]
  },
  {
   "cell_type": "markdown",
   "metadata": {},
   "source": [
    "内部パラメータが最初に決まらなかったら・・・"
   ]
  },
  {
   "cell_type": "code",
   "execution_count": 10,
   "metadata": {
    "collapsed": false
   },
   "outputs": [],
   "source": [
    "c2 = Cell( None, None )\n",
    "c2.x = 1\n",
    "c2.y = 2"
   ]
  },
  {
   "cell_type": "code",
   "execution_count": 11,
   "metadata": {
    "collapsed": false
   },
   "outputs": [
    {
     "data": {
      "text/plain": [
       "1"
      ]
     },
     "execution_count": 11,
     "metadata": {},
     "output_type": "execute_result"
    }
   ],
   "source": [
    "c2.x"
   ]
  },
  {
   "cell_type": "code",
   "execution_count": 12,
   "metadata": {
    "collapsed": false
   },
   "outputs": [
    {
     "data": {
      "text/plain": [
       "2"
      ]
     },
     "execution_count": 12,
     "metadata": {},
     "output_type": "execute_result"
    }
   ],
   "source": [
    "c2.y"
   ]
  },
  {
   "cell_type": "markdown",
   "metadata": {},
   "source": [
    "とします。  \n",
    "（ただし、最初に決まらないということはそもそも変数で表すのではなくて、式で表すことができるので、基本的には最初にNoneを使わないといけないということは構造的になにか問題を抱えているということになるんですけどね・・・。）"
   ]
  },
  {
   "cell_type": "markdown",
   "metadata": {},
   "source": [
    "構造体を使う利点は、xとかyとかが、それだけでは意味をなさず、合わさってはじめて意味を成すということが一目瞭然になることです。"
   ]
  },
  {
   "cell_type": "markdown",
   "metadata": {},
   "source": [
    "これを応用して最初の例を書き換えると以下のようになります。"
   ]
  },
  {
   "cell_type": "code",
   "execution_count": 13,
   "metadata": {
    "collapsed": true
   },
   "outputs": [],
   "source": [
    "# x = [ 1, 2, 3, 4 ]\n",
    "# y = [ 5, 6, 7, 8 ]\n",
    "cells = [ Cell(1,5), Cell(2,6), Cell(3,7), Cell(4,8) ]"
   ]
  },
  {
   "cell_type": "markdown",
   "metadata": {},
   "source": [
    "最初の代入は面倒くさいのですが、一度、値を格納してしまうと、次からのコードが驚くほど簡単かつ直感的に書けます。"
   ]
  },
  {
   "cell_type": "code",
   "execution_count": 14,
   "metadata": {
    "collapsed": true
   },
   "outputs": [],
   "source": [
    "for cell in cells:\n",
    "    cell.z = cell.x + cell.y"
   ]
  },
  {
   "cell_type": "code",
   "execution_count": 15,
   "metadata": {
    "collapsed": false
   },
   "outputs": [
    {
     "data": {
      "text/plain": [
       "(6, 8, 10, 12)"
      ]
     },
     "execution_count": 15,
     "metadata": {},
     "output_type": "execute_result"
    }
   ],
   "source": [
    "cells[0].z, cells[1].z, cells[2].z, cells[3].z"
   ]
  },
  {
   "cell_type": "markdown",
   "metadata": {},
   "source": [
    "ここまでの知識でも随分とコードがすっきりします。C言語系では、これを構造体的な使い方といいます。  \n",
    "まずは、ここまでを目指してください。多分このレベルだったら学部生でも到達できるはず。  \n",
    "次に、この構造体的な考えに慣れてきたら、パラメータの塊である構造体にメソッドを追加します。これをクラスといいます。"
   ]
  },
  {
   "cell_type": "markdown",
   "metadata": {},
   "source": [
    "クラス　＝　構造体　＋　メソッド"
   ]
  },
  {
   "cell_type": "markdown",
   "metadata": {},
   "source": [
    "クラスにメソッドを追加し、シンプルにします。"
   ]
  },
  {
   "cell_type": "code",
   "execution_count": 16,
   "metadata": {
    "collapsed": true
   },
   "outputs": [],
   "source": [
    "class Cell2():\n",
    "    def __init__( self, x, y ):\n",
    "        self.x = x\n",
    "        self.y = y\n",
    "    def AddXandY( self ):\n",
    "        self.z = self.x + self.y"
   ]
  },
  {
   "cell_type": "code",
   "execution_count": 17,
   "metadata": {
    "collapsed": true
   },
   "outputs": [],
   "source": [
    "cells2 = [ Cell2(1,5), Cell2(2,6), Cell2(3,7), Cell2(4,8) ]"
   ]
  },
  {
   "cell_type": "markdown",
   "metadata": {},
   "source": [
    "中身はこんなかんじ（まだ、演算していません。）"
   ]
  },
  {
   "cell_type": "code",
   "execution_count": 18,
   "metadata": {
    "collapsed": false
   },
   "outputs": [
    {
     "name": "stdout",
     "output_type": "stream",
     "text": [
      "{'x': 1, 'y': 5}\n",
      "{'x': 2, 'y': 6}\n",
      "{'x': 3, 'y': 7}\n",
      "{'x': 4, 'y': 8}\n"
     ]
    }
   ],
   "source": [
    "for c in cells2:\n",
    "    print(vars(c))"
   ]
  },
  {
   "cell_type": "markdown",
   "metadata": {},
   "source": [
    "こうしてやると、変数すら書かなくてよくなります。こういうふうに・・・"
   ]
  },
  {
   "cell_type": "code",
   "execution_count": 19,
   "metadata": {
    "collapsed": true
   },
   "outputs": [],
   "source": [
    "for cell2 in cells2:\n",
    "    cell2.AddXandY()"
   ]
  },
  {
   "cell_type": "markdown",
   "metadata": {},
   "source": [
    "中身はこうなりました。パラメータ'z'が追加されています。"
   ]
  },
  {
   "cell_type": "code",
   "execution_count": 20,
   "metadata": {
    "collapsed": false
   },
   "outputs": [
    {
     "name": "stdout",
     "output_type": "stream",
     "text": [
      "{'x': 1, 'y': 5, 'z': 6}\n",
      "{'x': 2, 'y': 6, 'z': 8}\n",
      "{'x': 3, 'y': 7, 'z': 10}\n",
      "{'x': 4, 'y': 8, 'z': 12}\n"
     ]
    }
   ],
   "source": [
    "for c in cells2:\n",
    "    print(vars(c))"
   ]
  },
  {
   "cell_type": "markdown",
   "metadata": {},
   "source": [
    "z が追加されましたね。"
   ]
  },
  {
   "cell_type": "markdown",
   "metadata": {},
   "source": [
    "もう少し、熱移動に即して、具体例を示します。"
   ]
  },
  {
   "cell_type": "markdown",
   "metadata": {},
   "source": [
    "実際には以下のように書きます。"
   ]
  },
  {
   "cell_type": "markdown",
   "metadata": {},
   "source": [
    "１つのセルがあったとします。"
   ]
  },
  {
   "cell_type": "code",
   "execution_count": 21,
   "metadata": {
    "collapsed": false
   },
   "outputs": [],
   "source": [
    "class Cell3():\n",
    "    def __init__( self, initialtemp, cd_mns, cd_pls, cap ):\n",
    "        self.temp = initialtemp # 温度の初期値(℃)\n",
    "        self.cd_mns = cd_mns # セルがもつコンダクタンス(-x側)(W/m2K)\n",
    "        self.cd_pls = cd_pls # セルがもつコンダクタンス(-x側)(W/m2K)\n",
    "        self.cap  = cap # セルのキャパシティー(J/m3K)\n",
    "    def makeCombinedConductance( self, cd_mnsside, cd_plsside ):\n",
    "        self.cc_mns = 1 / ( 1 / cd_mnsside + 1 / self.cd_mns ) # 隣のセルのコンダクタンスとの合成\n",
    "        self.cc_pls = 1 / ( 1 / cd_plsside + 1 / self.cd_pls ) # 隣のセルのコンダクタンスとの合成\n",
    "        # 1度抵抗にしてから合計し再度コンダクタンスにしている\n",
    "    def newtempcalc( self, temp_mnsside, temp_plsside, deltaT ):\n",
    "        # 流入する熱流の計算(W/m2)\n",
    "        heatflow = ( ( temp_mnsside - self.temp ) * self.cc_mns + ( temp_plsside - self.temp ) * self.cc_pls ) * deltaT\n",
    "        # 新しい温度(℃)\n",
    "        self.newtemp = heatflow / self.cap + self.temp\n",
    "    def updatetemp( self ):\n",
    "        # 古い温度を新しい温度に置き換え\n",
    "        self.temp = self.newtemp"
   ]
  },
  {
   "cell_type": "code",
   "execution_count": 22,
   "metadata": {
    "collapsed": false
   },
   "outputs": [],
   "source": [
    "c3 = Cell3( initialtemp = 0.0, cd_mns = 1.0, cd_pls = 1.0, cap = 100.0 )"
   ]
  },
  {
   "cell_type": "code",
   "execution_count": 23,
   "metadata": {
    "collapsed": true
   },
   "outputs": [],
   "source": [
    "c3.makeCombinedConductance( cd_mnsside = 1.0, cd_plsside = 1.0 )"
   ]
  },
  {
   "cell_type": "code",
   "execution_count": 24,
   "metadata": {
    "collapsed": false
   },
   "outputs": [],
   "source": [
    "c3.newtempcalc( temp_mnsside = 5.0, temp_plsside = 5.0, deltaT = 1.0 )"
   ]
  },
  {
   "cell_type": "code",
   "execution_count": 25,
   "metadata": {
    "collapsed": true
   },
   "outputs": [],
   "source": [
    "c3.updatetemp()"
   ]
  },
  {
   "cell_type": "code",
   "execution_count": 26,
   "metadata": {
    "collapsed": false
   },
   "outputs": [
    {
     "data": {
      "text/plain": [
       "0.05"
      ]
     },
     "execution_count": 26,
     "metadata": {},
     "output_type": "execute_result"
    }
   ],
   "source": [
    "c3.temp"
   ]
  },
  {
   "cell_type": "markdown",
   "metadata": {},
   "source": [
    "セルのコンダクタンスが中心点から-x側、+x側ともに1.0(W/m2K)  \n",
    "となりのセルも両側とも1.0(W/mK)  \n",
    "したがって合成コンダクタンス$CC$は両側ともに、  \n",
    "$ CC = \\frac{ 1 }{ \\frac{ 1 }{ 1.0 } + \\frac{ 1 }{ 1.0 } } = 0.5 $ (W/m2K)  \n",
    "両側の温度はともに5℃だから、温度差は5(K)。したがって、熱流fは、  \n",
    "$ f_{mns} = 0.5 \\times 5.0 \\times 1.0 = 2.5 $ (J/m2)  \n",
    "$ f_{pls} = 0.5 \\times 5.0 \\times 1.0 = 2.5 $ (J/m2)  \n",
    "あわせて、  \n",
    "$ f = f_{mns} + f_{pls} = 2.5 + 2.5 = 5.0 $ (J/m2)  \n",
    "温度上昇$\\Delta T $は、  \n",
    "$ \\Delta T = \\frac{ 5.0 }{ 100.0 } = 0.05 $ (℃)  \n",
    "となり、計算はあっていることになります。"
   ]
  },
  {
   "cell_type": "markdown",
   "metadata": {},
   "source": [
    "実際には、セルはたくさんあるので、"
   ]
  },
  {
   "cell_type": "markdown",
   "metadata": {},
   "source": [
    "初期化。ここでは、セルの数を10個にしました。"
   ]
  },
  {
   "cell_type": "code",
   "execution_count": 27,
   "metadata": {
    "collapsed": true
   },
   "outputs": [],
   "source": [
    "cells = [ Cell3( initialtemp = 0.0, cd_mns = 1.0, cd_pls = 1.0, cap = 100.0 ) for i in range(10) ]"
   ]
  },
  {
   "cell_type": "markdown",
   "metadata": {},
   "source": [
    "合成コンダクタンスの作成"
   ]
  },
  {
   "cell_type": "code",
   "execution_count": 28,
   "metadata": {
    "collapsed": false
   },
   "outputs": [],
   "source": [
    "N = len(cells)\n",
    "for i in range(N):\n",
    "    if i == 0: # セルが端っこの場合は隣のセルが定義されていないので・・・\n",
    "        cellmns_cd_pls = 1.0  # なにか表面熱伝達率のようなものを別途与えてあげる\n",
    "    else:\n",
    "        cellmns_cd_pls = cells[i-1].cd_pls\n",
    "    if i == N-1: # こちらも同じ\n",
    "        cellpls_cd_mns = 1.0\n",
    "    else:\n",
    "        cellpls_cd_mns = cells[i+1].cd_mns\n",
    "    cells[i].makeCombinedConductance( cd_mnsside = cellmns_cd_pls, cd_plsside = cellpls_cd_mns )"
   ]
  },
  {
   "cell_type": "markdown",
   "metadata": {},
   "source": [
    "中身はこんな感じ"
   ]
  },
  {
   "cell_type": "markdown",
   "metadata": {},
   "source": [
    "x-側のコンダクタンス(cc_mns)"
   ]
  },
  {
   "cell_type": "code",
   "execution_count": 29,
   "metadata": {
    "collapsed": false
   },
   "outputs": [
    {
     "data": {
      "text/plain": [
       "[0.5, 0.5, 0.5, 0.5, 0.5, 0.5, 0.5, 0.5, 0.5, 0.5]"
      ]
     },
     "execution_count": 29,
     "metadata": {},
     "output_type": "execute_result"
    }
   ],
   "source": [
    "[ c.cc_mns for c in cells ]"
   ]
  },
  {
   "cell_type": "markdown",
   "metadata": {},
   "source": [
    "x+側のコンダクタンス(cc_pls)"
   ]
  },
  {
   "cell_type": "code",
   "execution_count": 30,
   "metadata": {
    "collapsed": false
   },
   "outputs": [
    {
     "data": {
      "text/plain": [
       "[0.5, 0.5, 0.5, 0.5, 0.5, 0.5, 0.5, 0.5, 0.5, 0.5]"
      ]
     },
     "execution_count": 30,
     "metadata": {},
     "output_type": "execute_result"
    }
   ],
   "source": [
    "[ c.cc_pls for c in cells ]"
   ]
  },
  {
   "cell_type": "code",
   "execution_count": 31,
   "metadata": {
    "collapsed": true
   },
   "outputs": [],
   "source": [
    "def cells_get_newtemp( deltaT ):\n",
    "    for i in range(N):\n",
    "        if i == 0: # セルが端っこの場合は隣のセルが定義されていないので・・・\n",
    "            temp_mns = 5.0  # なにか室温or外気温のようなものを別途与えてあげる\n",
    "        else:\n",
    "            temp_mns = cells[i-1].temp\n",
    "        if i == N-1: # こちらも同じ\n",
    "            temp_pls = 5.0\n",
    "        else:\n",
    "            temp_pls = cells[i+1].temp\n",
    "        cells[i].newtempcalc( temp_mnsside = temp_mns, temp_plsside = temp_pls, deltaT = deltaT )\n",
    "    for i in range(N):\n",
    "        cells[i].updatetemp()"
   ]
  },
  {
   "cell_type": "markdown",
   "metadata": {},
   "source": [
    "これをぐるぐるまわします。"
   ]
  },
  {
   "cell_type": "code",
   "execution_count": 32,
   "metadata": {
    "collapsed": false
   },
   "outputs": [],
   "source": [
    "for i in range(3600):\n",
    "    cells_get_newtemp( deltaT = 1.0 )"
   ]
  },
  {
   "cell_type": "markdown",
   "metadata": {},
   "source": [
    "結果は"
   ]
  },
  {
   "cell_type": "code",
   "execution_count": 33,
   "metadata": {
    "collapsed": false
   },
   "outputs": [
    {
     "name": "stdout",
     "output_type": "stream",
     "text": [
      "4.585697347725006\n",
      "4.20496263589897\n",
      "3.88864184264323\n",
      "3.662359255642234\n",
      "3.54444302315501\n",
      "3.54444302315501\n",
      "3.662359255642234\n",
      "3.88864184264323\n",
      "4.20496263589897\n",
      "4.585697347725006\n"
     ]
    }
   ],
   "source": [
    "for c in cells:\n",
    "    print ( c.temp )"
   ]
  },
  {
   "cell_type": "markdown",
   "metadata": {},
   "source": [
    "3600秒まわした結果、両側が5℃に対して、大分温度が上昇してきました。両側は4.5℃まで温まりましたが、中心部は3.5℃ぐらいまでしかあがっていないことがわかります。"
   ]
  },
  {
   "cell_type": "markdown",
   "metadata": {},
   "source": [
    "ただし、クラスの概念が研究室に浸透するまでは、とりあえずは構造体の概念にとどめておくのも策かと思います。壁だけの計算であれば、構造体だけでも質の高いプログラムは記述可能です。ただし、壁と室というように複合させて計算しようとすると、クラスの概念がないと、かなり厳しいかと思います。"
   ]
  }
 ],
 "metadata": {
  "kernelspec": {
   "display_name": "Python 3",
   "language": "python",
   "name": "python3"
  },
  "language_info": {
   "codemirror_mode": {
    "name": "ipython",
    "version": 3
   },
   "file_extension": ".py",
   "mimetype": "text/x-python",
   "name": "python",
   "nbconvert_exporter": "python",
   "pygments_lexer": "ipython3",
   "version": "3.6.2"
  }
 },
 "nbformat": 4,
 "nbformat_minor": 2
}
